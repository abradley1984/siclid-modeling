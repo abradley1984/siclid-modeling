{
 "cells": [
  {
   "cell_type": "code",
   "execution_count": 9,
   "metadata": {
    "collapsed": false
   },
   "outputs": [
    {
     "name": "stdout",
     "output_type": "stream",
     "text": [
      "DT\n"
     ]
    }
   ],
   "source": [
    "import modeling\n",
    "\n",
    "\n",
    "%matplotlib inline\n",
    "\n",
    "df = pd.read_csv(\"../SICLIDdata.csv\")\n",
    "\n",
    "features = ['CC','ECC','FC','TC','Rey','DCCS','FT','LS','OR','PC','PS','PV','AgeAtTesting_Audiogram','Gender','Low_CueSRTScaled','High_CueSRTScaled',\n",
    "'TalkerAdvantageScaled','SpatialAdvantageScaled','TotalAdvantageScaled','AFG__8_Standard','FilteredWordsStandard','CW_DEStandard','CSStandard','CompositeStandard']\n",
    "\n",
    "df['Q_difficulty'] = df.ECLIPS_unscaled_total > 0\n",
    "df['A_difficulty'] = df.PatientGroup_Audiogram > 1\n",
    "\n",
    "#models_to_run=['RF', 'ET','AB','LR','SGD','GB','NB','DT','SVM','KNN']\n",
    "clfs, grid = modeling.define_clfs_params()\n",
    "models_to_run=[ 'DT']\n",
    "\n",
    "X = df[features]\n",
    "y = df.Q_difficulty\n",
    "results_q, clf= modeling.clf_cv_loop(models_to_run, clfs,grid, X,y)\n",
    "results_q.head()\n",
    "results_q.to_csv('siclid_modeling_test.csv')\n"
   ]
  },
  {
   "cell_type": "code",
   "execution_count": 14,
   "metadata": {
    "collapsed": false
   },
   "outputs": [
    {
     "name": "stdout",
     "output_type": "stream",
     "text": [
      "DT\n"
     ]
    }
   ],
   "source": [
    "y = df.A_difficulty\n",
    "results_b, clf= modeling.clf_cv_loop(models_to_run, clfs,grid, X,y)\n",
    "results_b.to_csv('siclid_modeling_b.csv')"
   ]
  },
  {
   "cell_type": "code",
   "execution_count": 15,
   "metadata": {
    "collapsed": false
   },
   "outputs": [
    {
     "name": "stdout",
     "output_type": "stream",
     "text": [
      "                                                    0         1\n",
      "0   DecisionTreeClassifier(class_weight=None, crit...  0.740000\n",
      "1   DecisionTreeClassifier(class_weight=None, crit...  0.711190\n",
      "2   DecisionTreeClassifier(class_weight=None, crit...  0.721667\n",
      "3   DecisionTreeClassifier(class_weight=None, crit...  0.696190\n",
      "4   DecisionTreeClassifier(class_weight=None, crit...  0.708333\n",
      "5   DecisionTreeClassifier(class_weight=None, crit...  0.711667\n",
      "6   DecisionTreeClassifier(class_weight=None, crit...  0.786667\n",
      "7   DecisionTreeClassifier(class_weight=None, crit...  0.826190\n",
      "8   DecisionTreeClassifier(class_weight=None, crit...  0.803810\n",
      "9   DecisionTreeClassifier(class_weight=None, crit...  0.813571\n",
      "10  DecisionTreeClassifier(class_weight=None, crit...  0.706667\n",
      "11  DecisionTreeClassifier(class_weight=None, crit...  0.864286\n",
      "12  DecisionTreeClassifier(class_weight=None, crit...  0.663333\n",
      "13  DecisionTreeClassifier(class_weight=None, crit...  0.760952\n",
      "14  DecisionTreeClassifier(class_weight=None, crit...  0.738571\n",
      "15  DecisionTreeClassifier(class_weight=None, crit...  0.825714\n",
      "16  DecisionTreeClassifier(class_weight=None, crit...  0.732381\n",
      "17  DecisionTreeClassifier(class_weight=None, crit...  0.755476\n",
      "18  DecisionTreeClassifier(class_weight=None, crit...  0.700952\n",
      "19  DecisionTreeClassifier(class_weight=None, crit...  0.708571\n",
      "20  DecisionTreeClassifier(class_weight=None, crit...  0.752857\n",
      "21  DecisionTreeClassifier(class_weight=None, crit...  0.679286\n",
      "22  DecisionTreeClassifier(class_weight=None, crit...  0.812857\n",
      "23  DecisionTreeClassifier(class_weight=None, crit...  0.760000\n",
      "24  DecisionTreeClassifier(class_weight=None, crit...  0.708095\n",
      "25  DecisionTreeClassifier(class_weight=None, crit...  0.706667\n",
      "26  DecisionTreeClassifier(class_weight=None, crit...  0.786905\n",
      "27  DecisionTreeClassifier(class_weight=None, crit...  0.765476\n",
      "28  DecisionTreeClassifier(class_weight=None, crit...  0.740714\n",
      "29  DecisionTreeClassifier(class_weight=None, crit...  0.801190\n",
      "..                                                ...       ...\n",
      "42  DecisionTreeClassifier(class_weight=None, crit...  0.773810\n",
      "43  DecisionTreeClassifier(class_weight=None, crit...  0.831190\n",
      "44  DecisionTreeClassifier(class_weight=None, crit...  0.800714\n",
      "45  DecisionTreeClassifier(class_weight=None, crit...  0.717857\n",
      "46  DecisionTreeClassifier(class_weight=None, crit...  0.754048\n",
      "47  DecisionTreeClassifier(class_weight=None, crit...  0.754286\n",
      "48  DecisionTreeClassifier(class_weight=None, crit...  0.773810\n",
      "49  DecisionTreeClassifier(class_weight=None, crit...  0.709524\n",
      "50  DecisionTreeClassifier(class_weight=None, crit...  0.789524\n",
      "51  DecisionTreeClassifier(class_weight=None, crit...  0.815238\n",
      "52  DecisionTreeClassifier(class_weight=None, crit...  0.676905\n",
      "53  DecisionTreeClassifier(class_weight=None, crit...  0.811667\n",
      "54  DecisionTreeClassifier(class_weight=None, crit...  0.726429\n",
      "55  DecisionTreeClassifier(class_weight=None, crit...  0.785714\n",
      "56  DecisionTreeClassifier(class_weight=None, crit...  0.811667\n",
      "57  DecisionTreeClassifier(class_weight=None, crit...  0.745952\n",
      "58  DecisionTreeClassifier(class_weight=None, crit...  0.694524\n",
      "59  DecisionTreeClassifier(class_weight=None, crit...  0.720476\n",
      "60  DecisionTreeClassifier(class_weight=None, crit...  0.690238\n",
      "61  DecisionTreeClassifier(class_weight=None, crit...  0.783333\n",
      "62  DecisionTreeClassifier(class_weight=None, crit...  0.782381\n",
      "63  DecisionTreeClassifier(class_weight=None, crit...  0.769762\n",
      "64  DecisionTreeClassifier(class_weight=None, crit...  0.703095\n",
      "65  DecisionTreeClassifier(class_weight=None, crit...  0.778333\n",
      "66  DecisionTreeClassifier(class_weight=None, crit...  0.732619\n",
      "67  DecisionTreeClassifier(class_weight=None, crit...  0.764762\n",
      "68  DecisionTreeClassifier(class_weight=None, crit...  0.797143\n",
      "69  DecisionTreeClassifier(class_weight=None, crit...  0.762381\n",
      "70  DecisionTreeClassifier(class_weight=None, crit...  0.727619\n",
      "71  DecisionTreeClassifier(class_weight=None, crit...  0.765476\n",
      "\n",
      "[72 rows x 2 columns]\n"
     ]
    }
   ],
   "source": [
    "print (results_b)"
   ]
  },
  {
   "cell_type": "code",
   "execution_count": null,
   "metadata": {
    "collapsed": true
   },
   "outputs": [],
   "source": []
  }
 ],
 "metadata": {
  "kernelspec": {
   "display_name": "Python [default]",
   "language": "python",
   "name": "python3"
  },
  "language_info": {
   "codemirror_mode": {
    "name": "ipython",
    "version": 3
   },
   "file_extension": ".py",
   "mimetype": "text/x-python",
   "name": "python",
   "nbconvert_exporter": "python",
   "pygments_lexer": "ipython3",
   "version": "3.5.2"
  }
 },
 "nbformat": 4,
 "nbformat_minor": 1
}
